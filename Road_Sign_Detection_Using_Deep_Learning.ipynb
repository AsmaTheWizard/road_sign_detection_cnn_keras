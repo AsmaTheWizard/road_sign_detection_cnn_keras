{
  "nbformat": 4,
  "nbformat_minor": 0,
  "metadata": {
    "colab": {
      "provenance": []
    },
    "kernelspec": {
      "name": "python3",
      "display_name": "Python 3"
    },
    "language_info": {
      "name": "python"
    }
  },
  "cells": [
    {
      "cell_type": "markdown",
      "source": [
        "The dataset that i'm going to use is the German traffic signs datase.\n",
        "You can download the dataset from [here](https://benchmark.ini.rub.de/gtsdb_dataset.html)"
      ],
      "metadata": {
        "id": "jklnU2gkKoLD"
      }
    },
    {
      "cell_type": "markdown",
      "source": [
        "#Libs"
      ],
      "metadata": {
        "id": "AM_p66WfMT-c"
      }
    },
    {
      "cell_type": "code",
      "execution_count": 15,
      "metadata": {
        "id": "C4ZIhQXbKAXJ"
      },
      "outputs": [],
      "source": [
        "\n",
        "import tensorflow as tf\n",
        "from tensorflow import keras\n",
        "from tensorflow.keras import layers\n",
        "from keras.utils.vis_utils import plot_model\n",
        "\n",
        "from subprocess import check_output\n",
        "from sklearn.model_selection import train_test_split\n",
        "\n",
        "\n",
        "\n",
        "import matplotlib.pyplot as plt\n",
        "import numpy as np\n",
        "import pandas as pd\n",
        "import matplotlib.pyplot as plt\n",
        "import matplotlib.image as mpimg\n",
        "from sklearn.utils import shuffle\n",
        "\n",
        "# import libraries\n",
        "import pickle\n",
        "\n",
        "%matplotlib inline"
      ]
    },
    {
      "cell_type": "markdown",
      "source": [
        "# Dataset"
      ],
      "metadata": {
        "id": "_KPDI7FEMVts"
      }
    },
    {
      "cell_type": "markdown",
      "source": [
        "Download the dataset then move it to a folder inside the root folder of the project. In thsi case, I created a folder called \"dataset\" inside the root folder."
      ],
      "metadata": {
        "id": "5M924cVHNyoI"
      }
    },
    {
      "cell_type": "code",
      "source": [
        "!pwd"
      ],
      "metadata": {
        "colab": {
          "base_uri": "https://localhost:8080/"
        },
        "id": "MYxBC9w3XX_s",
        "outputId": "6f6268e6-6c32-4a21-8bd2-49cf6af59c68"
      },
      "execution_count": 5,
      "outputs": [
        {
          "output_type": "stream",
          "name": "stdout",
          "text": [
            "/content\n"
          ]
        }
      ]
    },
    {
      "cell_type": "code",
      "source": [
        "with open(\"dataset/train.p\", mode='rb') as training_data:\n",
        "    train = pickle.load(training_data)\n",
        "with open(\"dataset/valid.p\", mode='rb') as validation_data:\n",
        "    valid = pickle.load(validation_data)\n",
        "with open(\"dataset/test.p\", mode='rb') as testing_data:\n",
        "    test = pickle.load(testing_data)\n",
        "\n",
        "X_train, y_train = train['features'], train['labels']\n",
        "X_validation, y_validation = valid['features'], valid['labels']\n",
        "X_test, y_test = test['features'], test['labels']\n"
      ],
      "metadata": {
        "id": "9p556YaxMX8R"
      },
      "execution_count": 7,
      "outputs": []
    },
    {
      "cell_type": "code",
      "source": [
        "X_train"
      ],
      "metadata": {
        "colab": {
          "base_uri": "https://localhost:8080/"
        },
        "id": "8gSfjF-tXhrL",
        "outputId": "60d819ca-f052-4b76-eb58-bcc3dd5a0d90"
      },
      "execution_count": 9,
      "outputs": [
        {
          "output_type": "execute_result",
          "data": {
            "text/plain": [
              "array([[[[ 28,  25,  24],\n",
              "         [ 27,  24,  23],\n",
              "         [ 27,  24,  22],\n",
              "         ...,\n",
              "         [ 32,  28,  24],\n",
              "         [ 31,  27,  25],\n",
              "         [ 31,  27,  26]],\n",
              "\n",
              "        [[ 29,  26,  25],\n",
              "         [ 27,  25,  23],\n",
              "         [ 27,  25,  23],\n",
              "         ...,\n",
              "         [ 32,  28,  24],\n",
              "         [ 31,  27,  24],\n",
              "         [ 30,  27,  25]],\n",
              "\n",
              "        [[ 28,  26,  26],\n",
              "         [ 27,  25,  23],\n",
              "         [ 26,  25,  23],\n",
              "         ...,\n",
              "         [ 32,  28,  24],\n",
              "         [ 31,  27,  24],\n",
              "         [ 30,  27,  25]],\n",
              "\n",
              "        ...,\n",
              "\n",
              "        [[ 27,  24,  23],\n",
              "         [ 28,  25,  24],\n",
              "         [ 30,  25,  24],\n",
              "         ...,\n",
              "         [ 27,  24,  23],\n",
              "         [ 28,  24,  22],\n",
              "         [ 29,  25,  22]],\n",
              "\n",
              "        [[ 28,  23,  23],\n",
              "         [ 29,  24,  24],\n",
              "         [ 31,  25,  24],\n",
              "         ...,\n",
              "         [ 27,  24,  23],\n",
              "         [ 28,  24,  22],\n",
              "         [ 28,  24,  21]],\n",
              "\n",
              "        [[ 29,  23,  23],\n",
              "         [ 30,  24,  24],\n",
              "         [ 32,  24,  23],\n",
              "         ...,\n",
              "         [ 27,  24,  22],\n",
              "         [ 27,  23,  21],\n",
              "         [ 26,  22,  20]]],\n",
              "\n",
              "\n",
              "       [[[ 28,  24,  24],\n",
              "         [ 26,  23,  23],\n",
              "         [ 27,  24,  24],\n",
              "         ...,\n",
              "         [ 31,  28,  26],\n",
              "         [ 31,  28,  27],\n",
              "         [ 32,  28,  27]],\n",
              "\n",
              "        [[ 27,  24,  24],\n",
              "         [ 27,  24,  24],\n",
              "         [ 28,  25,  24],\n",
              "         ...,\n",
              "         [ 31,  27,  25],\n",
              "         [ 31,  27,  26],\n",
              "         [ 33,  29,  27]],\n",
              "\n",
              "        [[ 26,  24,  24],\n",
              "         [ 26,  24,  24],\n",
              "         [ 27,  24,  23],\n",
              "         ...,\n",
              "         [ 31,  26,  25],\n",
              "         [ 31,  27,  26],\n",
              "         [ 33,  29,  27]],\n",
              "\n",
              "        ...,\n",
              "\n",
              "        [[ 28,  25,  23],\n",
              "         [ 30,  27,  24],\n",
              "         [ 30,  27,  24],\n",
              "         ...,\n",
              "         [ 27,  24,  22],\n",
              "         [ 27,  24,  22],\n",
              "         [ 28,  24,  22]],\n",
              "\n",
              "        [[ 27,  24,  22],\n",
              "         [ 29,  26,  23],\n",
              "         [ 31,  26,  24],\n",
              "         ...,\n",
              "         [ 26,  23,  21],\n",
              "         [ 27,  24,  22],\n",
              "         [ 28,  25,  23]],\n",
              "\n",
              "        [[ 28,  24,  23],\n",
              "         [ 28,  24,  22],\n",
              "         [ 29,  24,  22],\n",
              "         ...,\n",
              "         [ 27,  23,  22],\n",
              "         [ 27,  24,  23],\n",
              "         [ 29,  26,  25]]],\n",
              "\n",
              "\n",
              "       [[[ 29,  25,  25],\n",
              "         [ 29,  26,  26],\n",
              "         [ 30,  27,  27],\n",
              "         ...,\n",
              "         [ 31,  27,  24],\n",
              "         [ 31,  28,  25],\n",
              "         [ 32,  29,  27]],\n",
              "\n",
              "        [[ 27,  24,  24],\n",
              "         [ 27,  25,  25],\n",
              "         [ 28,  26,  26],\n",
              "         ...,\n",
              "         [ 31,  27,  23],\n",
              "         [ 32,  28,  25],\n",
              "         [ 33,  30,  27]],\n",
              "\n",
              "        [[ 27,  24,  24],\n",
              "         [ 28,  26,  26],\n",
              "         [ 29,  27,  27],\n",
              "         ...,\n",
              "         [ 32,  28,  24],\n",
              "         [ 32,  28,  24],\n",
              "         [ 33,  29,  26]],\n",
              "\n",
              "        ...,\n",
              "\n",
              "        [[ 28,  26,  22],\n",
              "         [ 29,  26,  21],\n",
              "         [ 31,  26,  22],\n",
              "         ...,\n",
              "         [ 29,  24,  21],\n",
              "         [ 28,  23,  20],\n",
              "         [ 28,  23,  22]],\n",
              "\n",
              "        [[ 27,  26,  23],\n",
              "         [ 28,  25,  21],\n",
              "         [ 30,  25,  22],\n",
              "         ...,\n",
              "         [ 28,  23,  21],\n",
              "         [ 27,  22,  20],\n",
              "         [ 28,  24,  22]],\n",
              "\n",
              "        [[ 29,  26,  23],\n",
              "         [ 28,  24,  21],\n",
              "         [ 29,  24,  21],\n",
              "         ...,\n",
              "         [ 29,  25,  23],\n",
              "         [ 28,  24,  22],\n",
              "         [ 30,  26,  24]]],\n",
              "\n",
              "\n",
              "       ...,\n",
              "\n",
              "\n",
              "       [[[ 51,  67,  86],\n",
              "         [ 55,  59,  71],\n",
              "         [ 75,  81,  92],\n",
              "         ...,\n",
              "         [250, 248, 243],\n",
              "         [207, 212, 233],\n",
              "         [121, 116, 140]],\n",
              "\n",
              "        [[ 35,  42,  49],\n",
              "         [ 48,  47,  51],\n",
              "         [ 91,  96, 113],\n",
              "         ...,\n",
              "         [220, 224, 226],\n",
              "         [169, 177, 187],\n",
              "         [ 84,  87, 100]],\n",
              "\n",
              "        [[ 27,  26,  29],\n",
              "         [ 41,  38,  39],\n",
              "         [ 55,  64,  78],\n",
              "         ...,\n",
              "         [122, 143, 160],\n",
              "         [ 97, 104, 129],\n",
              "         [ 59,  59,  56]],\n",
              "\n",
              "        ...,\n",
              "\n",
              "        [[ 24,  23,  27],\n",
              "         [ 21,  20,  27],\n",
              "         [ 20,  19,  22],\n",
              "         ...,\n",
              "         [ 76,  79,  83],\n",
              "         [ 54,  64,  77],\n",
              "         [ 45,  51,  65]],\n",
              "\n",
              "        [[ 31,  31,  33],\n",
              "         [ 22,  23,  29],\n",
              "         [ 20,  18,  21],\n",
              "         ...,\n",
              "         [ 66,  67,  84],\n",
              "         [ 56,  65,  74],\n",
              "         [ 45,  55,  73]],\n",
              "\n",
              "        [[ 28,  28,  30],\n",
              "         [ 22,  21,  25],\n",
              "         [ 19,  18,  19],\n",
              "         ...,\n",
              "         [ 67,  63,  76],\n",
              "         [ 39,  45,  55],\n",
              "         [ 32,  37,  47]]],\n",
              "\n",
              "\n",
              "       [[[ 82,  78,  96],\n",
              "         [120, 126, 148],\n",
              "         [112, 125, 146],\n",
              "         ...,\n",
              "         [185, 182, 177],\n",
              "         [204, 210, 215],\n",
              "         [132, 114, 121]],\n",
              "\n",
              "        [[ 74,  77,  93],\n",
              "         [171, 174, 185],\n",
              "         [137, 164, 184],\n",
              "         ...,\n",
              "         [180, 181, 187],\n",
              "         [198, 200, 213],\n",
              "         [ 79,  85,  85]],\n",
              "\n",
              "        [[ 54,  50,  56],\n",
              "         [100, 106, 118],\n",
              "         [117, 132, 158],\n",
              "         ...,\n",
              "         [157, 153, 160],\n",
              "         [176, 183, 199],\n",
              "         [ 88,  80,  82]],\n",
              "\n",
              "        ...,\n",
              "\n",
              "        [[ 22,  21,  22],\n",
              "         [ 20,  19,  19],\n",
              "         [ 18,  16,  19],\n",
              "         ...,\n",
              "         [ 50,  50,  60],\n",
              "         [ 37,  43,  52],\n",
              "         [ 30,  41,  59]],\n",
              "\n",
              "        [[ 18,  16,  18],\n",
              "         [ 19,  17,  18],\n",
              "         [ 19,  18,  21],\n",
              "         ...,\n",
              "         [ 36,  44,  60],\n",
              "         [ 33,  36,  48],\n",
              "         [ 36,  43,  61]],\n",
              "\n",
              "        [[ 18,  17,  20],\n",
              "         [ 21,  20,  23],\n",
              "         [ 24,  22,  25],\n",
              "         ...,\n",
              "         [ 32,  34,  41],\n",
              "         [ 45,  42,  48],\n",
              "         [ 41,  43,  52]]],\n",
              "\n",
              "\n",
              "       [[[ 69,  79,  96],\n",
              "         [ 24,  26,  28],\n",
              "         [ 40,  42,  45],\n",
              "         ...,\n",
              "         [225, 234, 237],\n",
              "         [151, 161, 166],\n",
              "         [164, 162, 169]],\n",
              "\n",
              "        [[ 99, 110, 125],\n",
              "         [ 36,  41,  47],\n",
              "         [ 63,  56,  62],\n",
              "         ...,\n",
              "         [197, 216, 224],\n",
              "         [154, 163, 169],\n",
              "         [164, 163, 159]],\n",
              "\n",
              "        [[104, 107, 113],\n",
              "         [ 34,  37,  40],\n",
              "         [ 72,  70,  77],\n",
              "         ...,\n",
              "         [223, 237, 235],\n",
              "         [181, 192, 198],\n",
              "         [166, 167, 159]],\n",
              "\n",
              "        ...,\n",
              "\n",
              "        [[ 21,  20,  23],\n",
              "         [ 23,  24,  30],\n",
              "         [ 19,  20,  24],\n",
              "         ...,\n",
              "         [ 45,  47,  54],\n",
              "         [ 58,  62,  70],\n",
              "         [ 58,  70,  82]],\n",
              "\n",
              "        [[ 18,  17,  21],\n",
              "         [ 19,  19,  24],\n",
              "         [ 18,  18,  23],\n",
              "         ...,\n",
              "         [ 36,  36,  40],\n",
              "         [ 58,  59,  70],\n",
              "         [ 61,  69,  81]],\n",
              "\n",
              "        [[ 17,  16,  19],\n",
              "         [ 16,  15,  18],\n",
              "         [ 16,  15,  18],\n",
              "         ...,\n",
              "         [ 40,  40,  44],\n",
              "         [ 57,  62,  73],\n",
              "         [ 57,  68,  80]]]], dtype=uint8)"
            ]
          },
          "metadata": {},
          "execution_count": 9
        }
      ]
    },
    {
      "cell_type": "code",
      "source": [
        "X_train, y_train = shuffle(X_train, y_train)"
      ],
      "metadata": {
        "id": "woe2EmK-YqTt"
      },
      "execution_count": 11,
      "outputs": []
    },
    {
      "cell_type": "code",
      "source": [
        "X_train_gray = np.sum(X_train/3, axis=3, keepdims=True)#convert to grayscale\n",
        "X_test_gray = np.sum(X_test/3, axis=3, keepdims=True)#convert to grayscale\n",
        "X_validation_gray = np.sum(X_validation/3, axis=3, keepdims=True)#convert to grayscale\n",
        "X_train_gray_norm = (X_train_gray - 128)/128 #normalize\n",
        "X_test_gray_norm = (X_test_gray - 128)/128 #normalize\n",
        "X_validation_gray_norm = (X_validation_gray - 128)/128 #normalize"
      ],
      "metadata": {
        "id": "I8R2ceCvYrHg"
      },
      "execution_count": 12,
      "outputs": []
    },
    {
      "cell_type": "markdown",
      "source": [
        "# MODEL"
      ],
      "metadata": {
        "id": "yJL2LmCyo1U1"
      }
    },
    {
      "cell_type": "code",
      "source": [
        "image_shape = X_train_gray[1].shape\n",
        "image_shape"
      ],
      "metadata": {
        "colab": {
          "base_uri": "https://localhost:8080/"
        },
        "id": "lKTc140gpfSl",
        "outputId": "7271eac1-3203-4f00-a0ca-f6852ec67025"
      },
      "execution_count": 17,
      "outputs": [
        {
          "output_type": "execute_result",
          "data": {
            "text/plain": [
              "(32, 32, 1)"
            ]
          },
          "metadata": {},
          "execution_count": 17
        }
      ]
    },
    {
      "cell_type": "code",
      "source": [
        "model = tf.keras.Sequential()\n",
        "model.add(tf.keras.layers.Conv2D(32,3, 3, input_shape =image_shape, activation='relu'))\n",
        "model.add(tf.keras.layers.Conv2D(64, (3,3), activation='relu'))\n",
        "model.add(tf.keras.layers.MaxPooling2D(pool_size = (2, 2)))\n",
        "model.add(tf.keras.layers.Dropout(0.25))\n",
        "model.add(tf.keras.layers.Flatten())\n",
        "model.add(tf.keras.layers.Dense(128, activation = 'relu'))\n",
        "model.add(tf.keras.layers.Dropout(0.5))\n",
        "model.add(tf.keras.layers.Dense(43, activation = 'sigmoid'))\n"
      ],
      "metadata": {
        "id": "J4Lw5rWonI32"
      },
      "execution_count": 18,
      "outputs": []
    },
    {
      "cell_type": "code",
      "source": [
        "model.compile(loss ='sparse_categorical_crossentropy',optimizer=keras.optimizers.Adam(0.001, beta_1=0.9, beta_2=0.999,epsilon=1e-07, amsgrad=False),metrics =['accuracy'])\n"
      ],
      "metadata": {
        "id": "85P9mB0spmfj"
      },
      "execution_count": 19,
      "outputs": []
    },
    {
      "cell_type": "code",
      "source": [
        "history = model.fit(X_train_gray_norm,y_train,batch_size=32,epochs=60,verbose=1,validation_data = (X_validation_gray_norm,y_validation))"
      ],
      "metadata": {
        "colab": {
          "base_uri": "https://localhost:8080/"
        },
        "id": "R25Keodop4H9",
        "outputId": "8fef82f2-96dc-45d9-a2e8-ef89cb39ed63"
      },
      "execution_count": 21,
      "outputs": [
        {
          "output_type": "stream",
          "name": "stdout",
          "text": [
            "Epoch 1/60\n",
            "1088/1088 [==============================] - 20s 17ms/step - loss: 1.7843 - accuracy: 0.5098 - val_loss: 0.6713 - val_accuracy: 0.8188\n",
            "Epoch 2/60\n",
            "1088/1088 [==============================] - 19s 17ms/step - loss: 0.6263 - accuracy: 0.8085 - val_loss: 0.3814 - val_accuracy: 0.8844\n",
            "Epoch 3/60\n",
            "1088/1088 [==============================] - 18s 17ms/step - loss: 0.4261 - accuracy: 0.8684 - val_loss: 0.3108 - val_accuracy: 0.9084\n",
            "Epoch 4/60\n",
            "1088/1088 [==============================] - 18s 17ms/step - loss: 0.3266 - accuracy: 0.8986 - val_loss: 0.2806 - val_accuracy: 0.9279\n",
            "Epoch 5/60\n",
            "1088/1088 [==============================] - 18s 17ms/step - loss: 0.2725 - accuracy: 0.9143 - val_loss: 0.2661 - val_accuracy: 0.9336\n",
            "Epoch 6/60\n",
            "1088/1088 [==============================] - 21s 19ms/step - loss: 0.2361 - accuracy: 0.9266 - val_loss: 0.2329 - val_accuracy: 0.9376\n",
            "Epoch 7/60\n",
            "1088/1088 [==============================] - 19s 17ms/step - loss: 0.2140 - accuracy: 0.9320 - val_loss: 0.2526 - val_accuracy: 0.9311\n",
            "Epoch 8/60\n",
            "1088/1088 [==============================] - 19s 17ms/step - loss: 0.1902 - accuracy: 0.9404 - val_loss: 0.2366 - val_accuracy: 0.9451\n",
            "Epoch 9/60\n",
            "1088/1088 [==============================] - 19s 18ms/step - loss: 0.1737 - accuracy: 0.9456 - val_loss: 0.2166 - val_accuracy: 0.9417\n",
            "Epoch 10/60\n",
            "1088/1088 [==============================] - 19s 18ms/step - loss: 0.1635 - accuracy: 0.9488 - val_loss: 0.2213 - val_accuracy: 0.9399\n",
            "Epoch 11/60\n",
            "1088/1088 [==============================] - 19s 17ms/step - loss: 0.1499 - accuracy: 0.9521 - val_loss: 0.2260 - val_accuracy: 0.9458\n",
            "Epoch 12/60\n",
            "1088/1088 [==============================] - 20s 19ms/step - loss: 0.1457 - accuracy: 0.9547 - val_loss: 0.1731 - val_accuracy: 0.9503\n",
            "Epoch 13/60\n",
            "1088/1088 [==============================] - 19s 18ms/step - loss: 0.1341 - accuracy: 0.9570 - val_loss: 0.2299 - val_accuracy: 0.9469\n",
            "Epoch 14/60\n",
            "1088/1088 [==============================] - 18s 17ms/step - loss: 0.1318 - accuracy: 0.9572 - val_loss: 0.2425 - val_accuracy: 0.9447\n",
            "Epoch 15/60\n",
            "1088/1088 [==============================] - 18s 17ms/step - loss: 0.1281 - accuracy: 0.9587 - val_loss: 0.2118 - val_accuracy: 0.9526\n",
            "Epoch 16/60\n",
            "1088/1088 [==============================] - 19s 17ms/step - loss: 0.1186 - accuracy: 0.9628 - val_loss: 0.2418 - val_accuracy: 0.9444\n",
            "Epoch 17/60\n",
            "1088/1088 [==============================] - 19s 17ms/step - loss: 0.1146 - accuracy: 0.9636 - val_loss: 0.1977 - val_accuracy: 0.9576\n",
            "Epoch 18/60\n",
            "1088/1088 [==============================] - 18s 17ms/step - loss: 0.1138 - accuracy: 0.9645 - val_loss: 0.2294 - val_accuracy: 0.9553\n",
            "Epoch 19/60\n",
            "1088/1088 [==============================] - 18s 17ms/step - loss: 0.1060 - accuracy: 0.9656 - val_loss: 0.2063 - val_accuracy: 0.9569\n",
            "Epoch 20/60\n",
            "1088/1088 [==============================] - 23s 21ms/step - loss: 0.1019 - accuracy: 0.9673 - val_loss: 0.2250 - val_accuracy: 0.9587\n",
            "Epoch 21/60\n",
            "1088/1088 [==============================] - 19s 18ms/step - loss: 0.1060 - accuracy: 0.9667 - val_loss: 0.1867 - val_accuracy: 0.9556\n",
            "Epoch 22/60\n",
            "1088/1088 [==============================] - 25s 23ms/step - loss: 0.0962 - accuracy: 0.9686 - val_loss: 0.1732 - val_accuracy: 0.9621\n",
            "Epoch 23/60\n",
            "1088/1088 [==============================] - 19s 17ms/step - loss: 0.0992 - accuracy: 0.9682 - val_loss: 0.2357 - val_accuracy: 0.9615\n",
            "Epoch 24/60\n",
            "1088/1088 [==============================] - 28s 25ms/step - loss: 0.1002 - accuracy: 0.9683 - val_loss: 0.2053 - val_accuracy: 0.9583\n",
            "Epoch 25/60\n",
            "1088/1088 [==============================] - 19s 17ms/step - loss: 0.0937 - accuracy: 0.9709 - val_loss: 0.2090 - val_accuracy: 0.9546\n",
            "Epoch 26/60\n",
            "1088/1088 [==============================] - 22s 20ms/step - loss: 0.0903 - accuracy: 0.9710 - val_loss: 0.2105 - val_accuracy: 0.9544\n",
            "Epoch 27/60\n",
            "1088/1088 [==============================] - 19s 17ms/step - loss: 0.0894 - accuracy: 0.9710 - val_loss: 0.2739 - val_accuracy: 0.9540\n",
            "Epoch 28/60\n",
            "1088/1088 [==============================] - 20s 18ms/step - loss: 0.0893 - accuracy: 0.9715 - val_loss: 0.2016 - val_accuracy: 0.9590\n",
            "Epoch 29/60\n",
            "1088/1088 [==============================] - 19s 18ms/step - loss: 0.0864 - accuracy: 0.9723 - val_loss: 0.2125 - val_accuracy: 0.9497\n",
            "Epoch 30/60\n",
            "1088/1088 [==============================] - 18s 17ms/step - loss: 0.0823 - accuracy: 0.9735 - val_loss: 0.2105 - val_accuracy: 0.9587\n",
            "Epoch 31/60\n",
            "1088/1088 [==============================] - 19s 17ms/step - loss: 0.0859 - accuracy: 0.9729 - val_loss: 0.2426 - val_accuracy: 0.9583\n",
            "Epoch 32/60\n",
            "1088/1088 [==============================] - 23s 21ms/step - loss: 0.0790 - accuracy: 0.9742 - val_loss: 0.2757 - val_accuracy: 0.9592\n",
            "Epoch 33/60\n",
            "1088/1088 [==============================] - 18s 17ms/step - loss: 0.0803 - accuracy: 0.9746 - val_loss: 0.2211 - val_accuracy: 0.9571\n",
            "Epoch 34/60\n",
            "1088/1088 [==============================] - 18s 17ms/step - loss: 0.0807 - accuracy: 0.9740 - val_loss: 0.2210 - val_accuracy: 0.9603\n",
            "Epoch 35/60\n",
            "1088/1088 [==============================] - 19s 17ms/step - loss: 0.0807 - accuracy: 0.9746 - val_loss: 0.1958 - val_accuracy: 0.9578\n",
            "Epoch 36/60\n",
            "1088/1088 [==============================] - 18s 17ms/step - loss: 0.0801 - accuracy: 0.9747 - val_loss: 0.2339 - val_accuracy: 0.9540\n",
            "Epoch 37/60\n",
            "1088/1088 [==============================] - 18s 17ms/step - loss: 0.0761 - accuracy: 0.9761 - val_loss: 0.1857 - val_accuracy: 0.9628\n",
            "Epoch 38/60\n",
            "1088/1088 [==============================] - 19s 17ms/step - loss: 0.0755 - accuracy: 0.9763 - val_loss: 0.2433 - val_accuracy: 0.9576\n",
            "Epoch 39/60\n",
            "1088/1088 [==============================] - 18s 17ms/step - loss: 0.0724 - accuracy: 0.9767 - val_loss: 0.2429 - val_accuracy: 0.9578\n",
            "Epoch 40/60\n",
            "1088/1088 [==============================] - 19s 18ms/step - loss: 0.0709 - accuracy: 0.9764 - val_loss: 0.2633 - val_accuracy: 0.9590\n",
            "Epoch 41/60\n",
            "1088/1088 [==============================] - 19s 18ms/step - loss: 0.0768 - accuracy: 0.9753 - val_loss: 0.2448 - val_accuracy: 0.9531\n",
            "Epoch 42/60\n",
            "1088/1088 [==============================] - 19s 17ms/step - loss: 0.0751 - accuracy: 0.9766 - val_loss: 0.2802 - val_accuracy: 0.9587\n",
            "Epoch 43/60\n",
            "1088/1088 [==============================] - 18s 17ms/step - loss: 0.0742 - accuracy: 0.9768 - val_loss: 0.2077 - val_accuracy: 0.9601\n",
            "Epoch 44/60\n",
            "1088/1088 [==============================] - 18s 17ms/step - loss: 0.0679 - accuracy: 0.9790 - val_loss: 0.2475 - val_accuracy: 0.9549\n",
            "Epoch 45/60\n",
            "1088/1088 [==============================] - 19s 17ms/step - loss: 0.0715 - accuracy: 0.9777 - val_loss: 0.2273 - val_accuracy: 0.9537\n",
            "Epoch 46/60\n",
            "1088/1088 [==============================] - 21s 19ms/step - loss: 0.0680 - accuracy: 0.9788 - val_loss: 0.2220 - val_accuracy: 0.9556\n",
            "Epoch 47/60\n",
            "1088/1088 [==============================] - 20s 18ms/step - loss: 0.0664 - accuracy: 0.9791 - val_loss: 0.2606 - val_accuracy: 0.9596\n",
            "Epoch 48/60\n",
            "1088/1088 [==============================] - 18s 17ms/step - loss: 0.0680 - accuracy: 0.9792 - val_loss: 0.2557 - val_accuracy: 0.9596\n",
            "Epoch 49/60\n",
            "1088/1088 [==============================] - 19s 17ms/step - loss: 0.0652 - accuracy: 0.9789 - val_loss: 0.2561 - val_accuracy: 0.9587\n",
            "Epoch 50/60\n",
            "1088/1088 [==============================] - 18s 17ms/step - loss: 0.0688 - accuracy: 0.9787 - val_loss: 0.2524 - val_accuracy: 0.9619\n",
            "Epoch 51/60\n",
            "1088/1088 [==============================] - 18s 17ms/step - loss: 0.0665 - accuracy: 0.9797 - val_loss: 0.2609 - val_accuracy: 0.9621\n",
            "Epoch 52/60\n",
            "1088/1088 [==============================] - 19s 18ms/step - loss: 0.0649 - accuracy: 0.9803 - val_loss: 0.2413 - val_accuracy: 0.9642\n",
            "Epoch 53/60\n",
            "1088/1088 [==============================] - 18s 17ms/step - loss: 0.0699 - accuracy: 0.9790 - val_loss: 0.2827 - val_accuracy: 0.9624\n",
            "Epoch 54/60\n",
            "1088/1088 [==============================] - 18s 17ms/step - loss: 0.0660 - accuracy: 0.9793 - val_loss: 0.2590 - val_accuracy: 0.9624\n",
            "Epoch 55/60\n",
            "1088/1088 [==============================] - 18s 16ms/step - loss: 0.0622 - accuracy: 0.9808 - val_loss: 0.2971 - val_accuracy: 0.9562\n",
            "Epoch 56/60\n",
            "1088/1088 [==============================] - 18s 16ms/step - loss: 0.0703 - accuracy: 0.9784 - val_loss: 0.2648 - val_accuracy: 0.9596\n",
            "Epoch 57/60\n",
            "1088/1088 [==============================] - 18s 17ms/step - loss: 0.0638 - accuracy: 0.9805 - val_loss: 0.3671 - val_accuracy: 0.9574\n",
            "Epoch 58/60\n",
            "1088/1088 [==============================] - 19s 17ms/step - loss: 0.0659 - accuracy: 0.9801 - val_loss: 0.3291 - val_accuracy: 0.9553\n",
            "Epoch 59/60\n",
            "1088/1088 [==============================] - 19s 17ms/step - loss: 0.0650 - accuracy: 0.9791 - val_loss: 0.2715 - val_accuracy: 0.9615\n",
            "Epoch 60/60\n",
            "1088/1088 [==============================] - 22s 20ms/step - loss: 0.0661 - accuracy: 0.9803 - val_loss: 0.3211 - val_accuracy: 0.9551\n"
          ]
        }
      ]
    },
    {
      "cell_type": "markdown",
      "source": [
        "#  Accuracy"
      ],
      "metadata": {
        "id": "xiNvI3aAq9ym"
      }
    },
    {
      "cell_type": "code",
      "source": [
        "score = model.evaluate(X_test_gray_norm, y_test,verbose=0)\n",
        "print('Test Accuracy : {:.4f}'.format(score[1]))"
      ],
      "metadata": {
        "colab": {
          "base_uri": "https://localhost:8080/"
        },
        "id": "xinV2-DIrctp",
        "outputId": "ca490285-218a-4d13-cf91-66022b5815e3"
      },
      "execution_count": 22,
      "outputs": [
        {
          "output_type": "stream",
          "name": "stdout",
          "text": [
            "Test Accuracy : 0.9488\n"
          ]
        }
      ]
    },
    {
      "cell_type": "code",
      "source": [
        "history_dict = history.history\n",
        "loss_values = history_dict['loss']\n",
        "val_loss_values = history_dict['val_loss']\n",
        "epochs = range(1, len(loss_values)+ 1)\n",
        "line1 = plt.plot(epochs, val_loss_values, label = 'Validation/Test Loss')\n",
        "line2 = plt.plot(epochs, loss_values, label= 'Training Loss')\n",
        "plt.setp(line1, linewidth=2.0, marker = '+', markersize=10.0)\n",
        "plt.setp(line2, linewidth=2.0, marker= '4', markersize=10.0)\n",
        "plt.xlabel('Epochs')\n",
        "plt.ylabel('Loss')\n",
        "plt.grid(True)\n",
        "plt.legend()\n",
        "plt.show()\n"
      ],
      "metadata": {
        "colab": {
          "base_uri": "https://localhost:8080/",
          "height": 279
        },
        "id": "TxXlP5SWrg9x",
        "outputId": "32a6e6c8-07e1-44c7-c456-894514f28fec"
      },
      "execution_count": 23,
      "outputs": [
        {
          "output_type": "display_data",
          "data": {
            "text/plain": [
              "<Figure size 432x288 with 1 Axes>"
            ],
            "image/png": "[encoded data removed]"
          },
          "metadata": {
            "needs_background": "light"
          }
        }
      ]
    },
    {
      "cell_type": "code",
      "source": [
        "history_dict = history.history\n",
        "acc_values = history_dict['accuracy']\n",
        "val_acc_values = history_dict['val_accuracy']\n",
        "epochs = range(1, len(loss_values)+ 1)\n",
        "line1 = plt.plot(epochs, val_acc_values, label = 'Validation/TestAccuracy')\n",
        "line2 = plt.plot(epochs, acc_values, label= 'Training Accuracy')\n",
        "plt.setp(line1, linewidth=2.0, marker = '+', markersize=10.0)\n",
        "plt.setp(line2, linewidth=2.0, marker= '4', markersize=10.0)\n",
        "plt.xlabel('Epochs')\n",
        "plt.ylabel('Accuracy')\n",
        "plt.grid(True)\n",
        "plt.legend()\n",
        "plt.show()\n"
      ],
      "metadata": {
        "colab": {
          "base_uri": "https://localhost:8080/",
          "height": 281
        },
        "id": "f_YEj4RJr4lM",
        "outputId": "256e8c02-ff4e-4fa2-cd6c-923e8f61d278"
      },
      "execution_count": 24,
      "outputs": [
        {
          "output_type": "display_data",
          "data": {
            "text/plain": [
              "<Figure size 432x288 with 1 Axes>"
            ],
            "image/png": "[encoded data removed]"
          },
          "metadata": {
            "needs_background": "light"
          }
        }
      ]
    }
  ]
}